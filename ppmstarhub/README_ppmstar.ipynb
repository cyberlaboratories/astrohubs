{
 "cells": [
  {
   "cell_type": "markdown",
   "metadata": {},
   "source": [
    "# PPMstar cyberlaboratory on astrohub\n",
    "This is the cyberlaboratory application for analysis of PPMstar 3D stellar hydrodynamics simulations.\n",
    "\n",
    "### Index\n",
    "\n",
    "* [General note on access and file storage in astrohub](#0)\n",
    "* [The GitHub PPMstar repo](#1)\n",
    "* [What's in home view of JupyterLab session](#2)\n",
    "* [Users](#3)\n",
    "* [Things to do on the PPMstar astrohub](#4)\n",
    "* [About this document](#5)\n",
    "\n",
    "### General note on access and file storage in astrohub\n",
    "<a id='0'></a>\n",
    "* The ppmstar hub is providing access to collaborators of the Minnesota-UVic PPMstar team (see below).\n",
    "* All users of the astrohub authenticate individually and are granted access to their individual docker container based on the image they choose in the spawner menu.\n",
    "* All data in the home directory of the instance is private to the individual user and lives inside the docker container. This data will be lost when the user shuts down the instance (via the `File` menu $\\rightarrow$ `Hub Control Panel`) but not when the user just logs out or closes the browser. Each user has a small amount of persistent storage in their jupyterlab home directory under `username_config` where `username` is the GitHub user name used to log in. This is meant for configuration files such as ssh keys, config dot files etc.\n",
    "* Read-only data repositories are available under `/data` (see below).\n",
    "* Read-write storage with different distance-access speed properties are available under `/user`. \n",
    "* *Important note:* All users of this server have the unix moniker `user` and are the same on the write-enabled storage under `/user`. This feature  enables seamless and transparent collaboration. It does mean, however, that each user should act reasonably, which means that you would create your own user directory with your name in it and limit your activities to _your_ part of the storage. It also means that you should not put things in `/user` that you do not want any of the other users (see below) to see, or that does not have a copy somewhere else (in case of accidental deletion). A proven way to interact is to keep anything of value in repositories that are frequently pushed to a remote. For this to work smoothly it is advised to setup ssh keys with your remote git server [(instructions for how to organize that in the astrohub context where you may occasionally restart the astrohub application)](https://owncloud.westgrid.ca/index.php/s/jEGCjwhgkfYhEop). We  run a gitlab server and can give you access to unlimited private git repos on that server if needed. \n",
    "\n",
    "### The GitHub PPMstar repo\n",
    "<a id='1'></a>\n",
    "\n",
    "* Data access is through our python modules, most notably the repositories _PPMnotebooks_ and _PyPPM_. \n",
    "* _PPMnotebooks_  is a collection of example notebooks that demonstrate the use of the PyPPM tools and also contain for some PPMstar papers the notebooks used to make the figures in the paper. \n",
    "* _PyPPM_ contains the `ppm.py` module, the 10,000-line work horse to analyse and access the data output products of the PPMstar code. \n",
    "* *Important note:* If you do develop new plot types or analysis methods that you think may be useful to other users you are encouraged to feed those back into the `PyPPM` package via a fork and pull request. That would be much appreciated!"
   ]
  },
  {
   "cell_type": "markdown",
   "metadata": {},
   "source": [
    "### What's in home view of JupyterLab session\n",
    "<a id='2'></a>\n",
    "\n",
    "If you are on a custom ppmstar hub, such as `ppmstar-lcse` you may find additional storage volumes available compared to those described below.\n",
    "\n",
    "#### Directories\n",
    "Directory | Content\n",
    "----------|--------\n",
    "`PPMnotebooks` | A copy of https://github.com/PPMstar/PPMnotebooks (maybe outdated, do a `git clone` on the terminal or bash notebook to get the latest version)\n",
    "`data`   | A link to `/data` in which the read-only data volumes are mounted\n",
    "`user`  | A link to `/user` that contains shared read-write volumes and user space \n",
    "\n",
    "#### Data storage\n",
    "Immutable data sources:\n",
    "\n",
    "Directory | Content\n",
    "----------|--------\n",
    "ASDR    | Data from the Astrophysical Simulation Data Repository at UVic includes data from the NuGrid collaboration, from the PPMstar group and from the UVic Computational Stellar Astrophysics (CSA) group\n",
    "\n"
   ]
  },
  {
   "cell_type": "markdown",
   "metadata": {},
   "source": [
    "#### User storage\n",
    "\n",
    "Storage for users to save files and analysis. Please conisder the notes above concerning data privacy, persistence and sharing.\n",
    "\n",
    "For small amounts of data you can create a user dir just in `/user`. This is the fastest option. More space is available in `/user/scratch14_ppmstar` (or similar named `scratch14` directories on other ppmstar hubs); or on the cedar (faster, closer) or niagara (slower, further away) scratch space. \n",
    "\n",
    "Directory | Content\n",
    "----------|--------\n",
    "scratch14_... | Primary volume for user data.\n",
    "cedar.scratch.ppmstar  | Another scratch space option (in fherwig's cedar scratch).\n",
    "niagara.scratch.ppmstar | Another scratch space option, network access a little bit slower (in fherwig's niagara scratch).\n",
    "\n",
    "\n",
    "\n",
    "#### Notebooks\n",
    "You will find one particularly useful notebook that provides a little GUI to plot radial profiles from 3D PPMstar hydro simulations available on the ASDR.\n",
    "\n",
    "\n",
    "### Users\n",
    "<a id='3'></a>\n",
    "\n",
    "Here is a list of users that have access to the ppmstar hub on astrohub:\n",
    "\n",
    "Team | Members\n",
    "-----|--------\n",
    "Victoria | Falk Herwig, David Stephens, Ondrea Clarkson, Pavel Denissenkov, William Thompson\n",
    "Minnesota | Paul Woodward, Huaqing Mao\n",
    "HITS, Heidelberg | Robert Andrassy\n",
    "Leuven | Conny Aerts, Andrew Tkachenko, Dominic Bowman, Mathias Michielsen\n",
    "WestGrid | Alex Razoumov, Belaid Moa\n",
    "Avrio Analytics | Michael Bertolli\n",
    "LANL | Sam Jones"
   ]
  },
  {
   "cell_type": "code",
   "execution_count": 1,
   "metadata": {},
   "outputs": [
    {
     "data": {
      "text/plain": [
       "'/Users/fherwig/Repos/cyberlaboratories/astrohubs/ppmstarhub'"
      ]
     },
     "execution_count": 1,
     "metadata": {},
     "output_type": "execute_result"
    }
   ],
   "source": [
    "pwd"
   ]
  },
  {
   "cell_type": "markdown",
   "metadata": {},
   "source": [
    "### Things to do on the PPMstar astrohub\n",
    "<a id='4'></a>\n",
    "\n",
    "This server may not have all data sets available that are used in the PPMnotebooks repository. If you are interested in a particular data set let us know (e.g. Falk) and we may be able to add that data to the ASDR. Below is a list of things that can be done right now. \n",
    "\n",
    "#### Analyse 3D and spherically averaged 1D data outputs of **main-sequence core convection in a 25M$_\\odot$ stellar model**\n",
    "\n",
    "- [Information about these runs](http://www.astro.uvic.ca/~fherwig/StellarHydro/Niagara)\n",
    "- use the `PPMnotebooks/Demos/MomsData_demo` notebook as a starting point, the pdf `MomsData_demo` shows how the figures in that notebook should look like\n",
    "- the `PPMnotebooks/Demos/rprof_demo` notebook provides more examples how to work with radial profiles"
   ]
  },
  {
   "cell_type": "markdown",
   "metadata": {},
   "source": [
    "### About this document\n",
    "<a id='5'></a>\n",
    "This README notebook lives on the [GitHub Cyberlaboratories/astrohub](https://github.com/cyberlaboratories/astrohubs/tree/master/ppmstarhub) repository.\n",
    "If you would like to add for example [Things to do on the PPMstar astrohub](#4) fork and make a pull request. \n",
    "\n",
    "Also, let us know any other issues or suggestions for improvements, such as missing software packages. They can probably be easily fixed. This server currently runs on a 16-core, 120GB VM in the [Compute Canada](https://www.computecanada.ca/) [Arbutus Cloud](https://docs.computecanada.ca/wiki/Cloud_resources#Arbutus_cloud_.28arbutus.cloud.computecanada.ca.29) hosted by  [Research Computing Systems](https://onlineacademiccommunity.uvic.ca/rcs/)  at the [University of Victoria](https://www.uvic.ca)\n"
   ]
  }
 ],
 "metadata": {
  "kernelspec": {
   "display_name": "Python 3",
   "language": "python",
   "name": "python3"
  },
  "language_info": {
   "codemirror_mode": {
    "name": "ipython",
    "version": 3
   },
   "file_extension": ".py",
   "mimetype": "text/x-python",
   "name": "python",
   "nbconvert_exporter": "python",
   "pygments_lexer": "ipython3",
   "version": "3.6.5"
  }
 },
 "nbformat": 4,
 "nbformat_minor": 4
}
