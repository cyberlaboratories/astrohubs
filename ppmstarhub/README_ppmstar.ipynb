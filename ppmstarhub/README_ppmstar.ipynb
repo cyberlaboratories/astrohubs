{
 "cells": [
  {
   "cell_type": "markdown",
   "metadata": {},
   "source": [
    "# PPMstar cyberlaboratory on astrohub\n",
    "This is the cyberlaboratory application for analysis of PPMstar 3D stellar hydrodynamics simulations.\n",
    "\n",
    "### Index\n",
    "\n",
    "* [General note on access and file storage in astrohub](#0)\n",
    "* [The GitHub PPMstar repo](#1)\n",
    "* [Directories in home view of JupyterLab session](#2)\n",
    "* [Users](#3)\n",
    "* [Things to do on the PPMstar astrohub](#4)\n",
    "* [About this document](#5)\n",
    "\n",
    "### General note on access and file storage in astrohub\n",
    "<a id='0'></a>\n",
    "* This astrohub server is providing access to collaborators of the Minnesota-UVic PPMstar team (see below).\n",
    "* All users of the astrohub or wendi authenticate individually and are granted access to their individual docker container based on the image they choose in the spawner menu.\n",
    "* All data in the home directory of the instance is private to the individual user and lives inside the docker container. This data will be lost when the user shuts down the instance (via the `Hub` menu $\\rightarrow$ `Control Panel`) but not when the user just logs out or closes the browser.\n",
    "* Read-only data repositories are available under `/data` (see below).\n",
    "* Read-write storage with different distance-access speed properties are available under `/user`. \n",
    "* *Important note:* All users of this server have the unix moniker `user` and are the same on the write-enabled storage under `/user`. This feature  enables seamless and transparent collaboration. It does mean, however, that each user should act reasonably, which means that you would create your own user directory with your name in it and limit your activities to _your_ part of the storage. It also means that you should not put things in `/user` that you do not want any of the other users (see below) to see, or that does not have a copy somewhere else (in case of accidental deletion). A proven way to interact is to keep anything of value in repositories that are frequently pushed to a remote. For this to work smoothly it is advised to setup ssh keys with your remote git server [(instructions for how to organize that in the astrohub context where you may occasionally restart the astrohub application)](https://owncloud.westgrid.ca/index.php/s/jEGCjwhgkfYhEop). We do run a gitlab server and can give you access to unlimited private git repos on that server if needed. \n",
    "\n",
    "### The GitHub PPMstar repo\n",
    "<a id='1'></a>\n",
    "\n",
    "* Data access is through our python modules, most notably the repositories _PPMnotebooks_ and _PyPPM_. \n",
    "* _PPMnotebooks_  is a collection of example notebooks that demonstrate the use of the PyPPM tools and also contain for some PPMstar papers the notebooks used to make the figures in the paper. \n",
    "* _PyPPM_ contains the `ppm.py` module, the 10,000-line work horse to analyse and access the data output products of the PPMstar code. \n",
    "* *Important note:* If you do develop new plot types or analysis methods that you think may be useful to other users you are encouraged to feed those back into the `PyPPM` package via a fork and pull request. That would be much appreciated!"
   ]
  },
  {
   "cell_type": "markdown",
   "metadata": {},
   "source": [
    "### Directories in home view of JupyterLab session\n",
    "<a id='2'></a>\n",
    "\n",
    "Directory | Content\n",
    "----------|--------\n",
    "`PPMnotebooks` | A copy of https://github.com/PPMstar/PPMnotebooks (maybe outdated, do a git pull on the terminal or bash notebook to get the latest version)\n",
    "`data`   | A link to `/data` in which the read-only data volumes are mounted\n",
    "`user`  | A link to `/user` that contains shared read-write volumes and user space \n",
    "`notebooks`  | A stub diretory that would be the home view for the classic Jupyter Notebook option in the spawner menu, in a jupyterlab session you can ignore this directory.\n",
    "\n",
    "#### Data storage\n",
    "Immutable data sources:\n",
    "\n",
    "Directory | Content\n",
    "----------|--------\n",
    "ASDR    | Data from the Astrophysical Simulation Data Repository at UVic\n",
    "nugrid_local | NuGrid stellar evolution and yield data set, e.g. Ritter et al. 2018 (2018MNRAS.480..538R), on local storage (fastest)\n",
    "nugrid_cedar | copy on cedar\n",
    "nugrid_rpod4 | another copy\n",
    "nugrid_vos   | the master copy on the CADC VOspace\n",
    "\n",
    "\n",
    "#### User storage\n",
    "\n",
    "Storage for users to save files and analysis. Please conisder the notes above concerning data privacy, persistence and sharing.\n",
    "\n",
    "For small amounts of data you can create a user dir just in `/user`. This is the fastest option. More space is available in `/scratch14.4` or on the cedar (faster, closer) or niagara (slower, further away) scratch space. \n",
    "\n",
    "Directory | Content\n",
    "----------|--------\n",
    "scratch14.4 | Primary volume for user data.\n",
    "WWWpublic.astrohub.user | This data volume is accessible via the web address http://www.astro.uvic.ca/~fherwig/StellarHydro/astrohub.user. Copy images or other files here in order to share them with others. Make them world readable (`chmod ugo+r`).\n",
    "cedar.scratch.astrohub.user  | Another scratch space option.\n",
    "niagara.scratch.astrohub.user | Another scratch space option, network access a little bit slower.\n",
    "scratch14_wendi1 | Scratch space on http://wendi1.phys.uvic.ca which is a public server (no access limits) to serve the NuGrid data and NuPyCEE tools. \n",
    "\n",
    "### Users\n",
    "<a id='3'></a>\n",
    "\n",
    "Here is a list of users that have access to this astrohub server:\n",
    "\n",
    "Team | Members\n",
    "-----|--------\n",
    "Victoria | Falk Herwig, Robert Andrassy, David Stephens, Ondrea Clarkson, Pavel Denissenkov, AST501 students \n",
    "Minnesota | Paul Woodward, Huaqing Mao\n",
    "Leuven | Conny Aerts, Andrew Tkachenko, Dominic Bowman\n",
    "WestGrid | Alex Razoumov"
   ]
  },
  {
   "cell_type": "markdown",
   "metadata": {},
   "source": [
    "### Things to do on the PPMstar astrohub\n",
    "<a id='4'></a>\n",
    "\n",
    "This server may not have all data sets available that are used in the PPMnotebooks repository. If you are interested in a particular data set let us know (e.g. Falk) and we will add that data to the ASDR. Below is a list of things that can be done right now. \n",
    "\n",
    "#### Analyse 3D and spherically averaged 1D data outputs of **main-sequence core convection in a 25M$_\\odot$ stellar model**\n",
    "\n",
    "- [Information about these runs](http://www.astro.uvic.ca/~fherwig/StellarHydro/Niagara)\n",
    "- use the `PPMnotebooks/Demos/MomsData_demo` notebook as a starting point, the pdf `MomsData_demo` shows how the figures in that notebook should look like\n",
    "- the `PPMnotebooks/Demos/rprof_demo` notebook provides more examples how to work with radial profiles"
   ]
  },
  {
   "cell_type": "markdown",
   "metadata": {},
   "source": [
    "### About this document\n",
    "<a id='5'></a>\n",
    "This README notebook lives on the [UVic Computational Stellar Astrophysics CSA gitlab repo](http://http://206.12.59.97/fherwig/csa-astrohubs-configs/tree/master/osmium)\n",
    "If you would like to add for example [Things to do on the PPMstar astrohub](#4) make changes there, and let Falk know to update the `PPMstarHub` docker image. \n",
    "\n",
    "Also, let us know any other issues or suggestions for improvements, such as missing software packages. They can probably be easily fixed. This server currently runs on medium-sized hardware (8 cores, 30GB mem). This can easily be doubled if needed. \n"
   ]
  }
 ],
 "metadata": {
  "kernelspec": {
   "display_name": "Bash",
   "language": "bash",
   "name": "bash"
  },
  "language_info": {
   "codemirror_mode": "shell",
   "file_extension": ".sh",
   "mimetype": "text/x-sh",
   "name": "bash"
  }
 },
 "nbformat": 4,
 "nbformat_minor": 2
}
